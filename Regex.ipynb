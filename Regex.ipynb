{
 "cells": [
  {
   "cell_type": "code",
   "execution_count": 2,
   "id": "d2234d65",
   "metadata": {},
   "outputs": [],
   "source": [
    "import re"
   ]
  },
  {
   "cell_type": "code",
   "execution_count": 31,
   "id": "2b197fcc",
   "metadata": {},
   "outputs": [],
   "source": [
    "def find_cat(x):\n",
    "    category = []\n",
    "    if re.match(r\".*((understand|go over|question|inquir|assist|explain|read|view|see|fetch)[a-z\\s]{0,20}( bill)|(bill)[a-z\\s]{0,20}(understand | go over | question | inquir| assist | explain | read | view | see | fetch)).*\", x):\n",
    "        category.append(\"Bill_Explanation\")\n",
    "    if re.match(r\".*((waive|appl|told| den|give|issue|receive|get|refund|tak[a-z\\s]{0,5}off|know about|courtes|return|revers|incentive credit|credit charg|credit|have|mov|offset|adjust)[a-z\\s]{0,20}(fee|credit|charge|bill credit|incentive credit|adjustment|credit charge|bill|credit request|credit balanc)|(fee|credit|charge|bill credit|incentive credit|adjustment|credit charg|bill|credit request|credit balanc)[a-z\\s]{0,20}(waiv|appl|told|den|give|issu|receiv|get|refund|tak[a-z\\s]{0,5}off|know about|courtes|return|revers|incentive credit|credit charg|credit| hav| mov|offset|adjust)).*\", x):\n",
    "        category.append(\"Credit Request/ Get Waiver\")\n",
    "    if re.match(r\".*((assist|troubl| issue|problem|fail|error|fallout|try[a-z\\s]{0,10}activate|troubl[a-z\\s]{0,10}activat|help)[a-z\\s]{0,20}(activat|activat[a-z\\s]{0,10}troubl|phone)|(activat|activat[a-z\\s]{0,10}troubl|phone)[a-z\\s]{0,20}(assist|troubl| issue|problem|fail|error|fallout|try[a-z\\s]{0,10}activate|trouble[a-z\\s]{0,10}activat|help)).*\", x):\n",
    "        category.append(\"activation issue\")\n",
    "    if re.match(r\".*((international package|travel|use|take|canadian plan|international carrier|international call|call|international feature|global data package|mexico plan|global rate|coverage|know)[a-z\\s]{0,20}(international package|country|mexico|canada|outside us|abroad|cruise|canadian plan|international carrier|international call|international|international feature|global data package|mexico plan|global rate|coverage|travel destination|international plan)|(international package|country|mexico|canada|outside us|abroad|cruise|canadian plan|international carrier|international call|international|international feature|global data package|mexico plan|global rate|coverage|travel destination|international plan)[a-z\\s]{0,20}(international package|travel|use|take|canadian plan|international carrier|international call|call|international feature|global data package|mexico plan|global rate|coverage|know)).*\", x):\n",
    "        category.append(\"query-international plan\")\n",
    "    if re.match(r\".*((not work|error|issue)[a-z\\s]{0,20}(esim| sim card|simcard)|(esim| sim card|simcard)[a-z\\s]{0,20}(not work|error|issue)).*\",x):\n",
    "        category.append(\"Sim card Trouble\")\n",
    "    if re.match(r\".*((unadjustable)[a-z\\s]{0,20}(charge adjustment|charge|adjustment)|(charge adjustment|charge|adjustment)[a-z\\s]{0,20}(unadjustable)).*\",x):\n",
    "        category.append(\"unadjustable charge adjustment\")\n",
    "    if re.match(r\".*((add|get|subscribe|start)[a-z\\s]{0,20}(vz smart famil|voicemail|hotspot|ringtone|visual voice|verizon cloud|mobile protection|caller id|call filter|google play pass|alexa|disne plus|disne|hulu|verizon roadside assitance|apple music|disney bundle|vz hum|message block|vz navigator|famil locator|espn|apple arcade|verizon home device protect|care smart app|share name id|verizon famil money|verizon visa card|discover|youtube tv|smart locator hub|smart home|icloud|peloton|netflix|plus play|play|ae networks|amc|live nation veep|hulu|ww internation|sling tv|tech coach|call and message block|equipment coverage|mobile secure|paramount|iptv|number lock|verizon mobile protect|total equipment coverage|share number|walmart|hd streaming plus|gaming|xbox|wireless phonepProtect|nfl sunday ticket)|(vz smart famil|voicemail|hotspot|ringtone|visual voice|verizon cloud|mobile protection|caller id|call filter|google play pass|alexa|disne plus|disne|hulu|verizon roadside assitance|apple music|disney bundle|vz hum|message block|vz navigator|famil locator|espn|apple arcade|verizon home device protect|care smart app|share name id|verizon famil money|verizon visa card|discover|youtube tv|smart locator hub|smart home|icloud|peloton|netflix|plus play|play|ae networks|amc|live nation veep|hulu|ww internation|sling tv|tech coach|call and message block|equipment coverage|mobile secure|paramount|iptv|number lock|verizon mobile protect|total equipment coverage|share number|walmart|hd streaming plus|gaming|xbox|wireless phonepProtect|nfl sunday ticket)[a-z\\s]{0,20}(add|get|subscribe|start)).*\", x):\n",
    "        category.append(\"Add Service features\")\n",
    "    if re.match(r\".*((remove|disconnect|discontinue|unsubscribe|cancel|delete|drop)[a-z\\s]{0,20}(vz smart famil|voicemail|hotspot|ringtone|visual voice|verizon cloud|mobile protection|caller id|call filter|google play pass|alexa|disne plus|disne|hulu|verizon roadside assitance|apple music|disney bundle|vz hum|message block|vz navigator|famil locator|espn|apple arcade|verizon home device protect|care smart app|share name id|verizon famil money|verizon visa card|discover|youtube tv|smart locator hub|smart home|icloud|peloton|netflix|plus play|play|ae networks|amc|live nation veep|hulu|ww internation|sling tv|tech coach|call and message block|equipment coverage|mobile secure|paramount|iptv|number lock|verizon mobile protect|total equipment coverage|share number|walmart|hd streaming plus|gaming|xbox|wireless phonepProtect|nfl sunday ticket)|(vz smart famil|voicemail|hotspot|ringtone|visual voice|verizon cloud|mobile protection|caller id|call filter|google play pass|alexa|disne plus|disne|hulu|verizon roadside assitance|apple music|disney bundle|vz hum|message block|vz navigator|famil locator|espn|apple arcade|verizon home device protect|care smart app|share name id|verizon famil money|verizon visa card|discover|youtube tv|smart locator hub|smart home|icloud|peloton|netflix|plus play|play|ae networks|amc|live nation veep|hulu|ww internation|sling tv|tech coach|call and message block|equipment coverage|mobile secure|paramount|iptv|number lock|verizon mobile protect|total equipment coverage|share number|walmart|hd streaming plus|gaming|xbox|wireless phonepProtect|nfl sunday ticket)[a-z\\s]{0,20}(remove|disconnect|discontinue|unsubscribe|cancel|delete|drop)).*\", x):\n",
    "        category.append(\"Remove Service features\")\n",
    "    if re.match(r\".*((cannot|make|not able|unable|drop|not work|cannot connect|cannot make)[a-z\\s]{0,20}(make call|call|connect call)|(make call|call|connect call)[a-z\\s]{0,20}(cannot|make|not able|unable|drop|not work|cannot connect|cannot make)).*\", x):\n",
    "        category.append(\"Call Trouble\")\n",
    "    if re.match(r\".*((cannot send|cannot receive|not get|cannot deliver|send|receive|forward|resend|does not support|ock|cannot lock|not deliver|problem|issue|fail|not work)[a-z\\s]{0,20}(text|message|message plus|sms|imessage)|(text|message|message plus|sms|imessage)[a-z\\s]{0,20}(cannot send|cannot receive|not get|cannot deliver|send|receive|forward|resend|does not support|ock|cannot lock|not deliver|problem|issue|fail|not work)).*\", x):\n",
    "        category.append(\"Trouble messaging\")\n",
    "    if re.match(r\".*((error|issue|wrong|charge incorrect|incorrect|should not charge|mistak bill|fail|problem|trouble|failure)[a-z\\s]{0,20}(bill|charg|charg incorrect|bill charg|should not charg|mistake bill)|(bill|charge|charge incorrect|bill charge|should not charge|mistak bill)[a-z\\s]{0,20}(error|issue|wrong|charge incorrect|incorrect|should not charge|mistake bill|fail|problem|trouble|failure)).*\", x):\n",
    "        category.append(\"Bill Error/Issues\")\n",
    "    if re.match(r\".*((activat|setup| set up |add)[a-z\\s]{0,20}(phone|number|device)|(phone|number|device)[a-z\\s]{0,20}(activat|setup| set up |add)).*\", x):\n",
    "        category.append(\"Setup/ Activate Phone\")\n",
    "   \n",
    "\n",
    "\n",
    "\n",
    "\n",
    "    return category\n",
    "\n",
    "\n",
    "\n",
    "\n",
    "\n",
    "\n",
    "\n",
    "\n",
    "\n",
    "\n",
    "\n",
    "res=find_cat(\"I deny the unauthorized  charges on  the bill and problem want to understand assist the bill simcard request I will  assist you and activate you and fallout problem international use mexico country error sim card unadjustable charge add hotspot remove hotspot cannot call error bill not get text not deliver activate phone\")"
   ]
  },
  {
   "cell_type": "code",
   "execution_count": 32,
   "id": "a53f9a97",
   "metadata": {},
   "outputs": [
    {
     "data": {
      "text/plain": [
       "['Bill_Explanation',\n",
       " 'Credit Request/ Get Waiver',\n",
       " 'activation issue',\n",
       " 'query-international plan',\n",
       " 'Sim card Trouble',\n",
       " 'unadjustable charge adjustment',\n",
       " 'Add Service features',\n",
       " 'Remove Service features',\n",
       " 'Call Trouble',\n",
       " 'Trouble messaging',\n",
       " 'Bill Error/Issues',\n",
       " 'Setup/ Activate Phone']"
      ]
     },
     "execution_count": 32,
     "metadata": {},
     "output_type": "execute_result"
    }
   ],
   "source": [
    "res"
   ]
  },
  {
   "cell_type": "code",
   "execution_count": 26,
   "id": "428c67d6",
   "metadata": {},
   "outputs": [
    {
     "data": {
      "text/plain": [
       "['activation issue']"
      ]
     },
     "execution_count": 26,
     "metadata": {},
     "output_type": "execute_result"
    }
   ],
   "source": [
    "category1=[]\n",
    "x=\"\"\n",
    "if re.match(r\".*((assist|troubl| issue|problem|fail|error|fallout|try[a-z\\s]{0,10}activate|troubl[a-z\\s]{0,10}activat|help)[a-z\\s]{0,20}(activat|activat[a-z\\s]{0,10}troubl|phone)|(activat|activat[a-z\\s]{0,10}troubl|phone)[a-z\\s]{0,20}(assist|troubl| issue|problem|fail|error|fallout|try[a-z\\s]{0,10}activate|trouble[a-z\\s]{0,10}activat|help)).*\", x):\n",
    "        category1.append(\"activation issue\")\n",
    "category1\n"
   ]
  },
  {
   "cell_type": "code",
   "execution_count": 24,
   "id": "93a0a02b",
   "metadata": {},
   "outputs": [
    {
     "data": {
      "text/plain": [
       "['Bill_Explanation']"
      ]
     },
     "execution_count": 24,
     "metadata": {},
     "output_type": "execute_result"
    }
   ],
   "source": [
    "category1=[]\n",
    "x=\"I deny the unauthorized  charges on  the bill and problem want to understand assist the bill simcard request\"\n",
    "if re.match(r\".*((understand|go over|question|inquir|assist|explain|read|view|see|fetch)[a-z\\s]{0,20}( bill)|(bill)[a-z\\s]{0,20}(understand | go over | question | inquir| assist | explain | read | view | see | fetch)).*\", x):\n",
    "        category1.append(\"Bill_Explanation\")\n",
    "category1"
   ]
  },
  {
   "cell_type": "code",
   "execution_count": null,
   "id": "cb270013",
   "metadata": {},
   "outputs": [],
   "source": [
    "if re.match(r\".*().*\", x):\n",
    "    category.append(\"\")"
   ]
  }
 ],
 "metadata": {
  "kernelspec": {
   "display_name": "Python 3 (ipykernel)",
   "language": "python",
   "name": "python3"
  },
  "language_info": {
   "codemirror_mode": {
    "name": "ipython",
    "version": 3
   },
   "file_extension": ".py",
   "mimetype": "text/x-python",
   "name": "python",
   "nbconvert_exporter": "python",
   "pygments_lexer": "ipython3",
   "version": "3.9.13"
  }
 },
 "nbformat": 4,
 "nbformat_minor": 5
}
